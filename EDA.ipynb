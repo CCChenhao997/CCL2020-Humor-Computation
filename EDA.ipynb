{
 "cells": [
  {
   "cell_type": "markdown",
   "metadata": {},
   "source": [
    "## 读取数据"
   ]
  },
  {
   "cell_type": "code",
   "execution_count": 17,
   "metadata": {},
   "outputs": [],
   "source": [
    "import pandas as pd\n",
    "\n",
    "train_labeled_cn = pd.read_csv('data/raw/cn_train.csv', encoding='utf-8')\n",
    "dev_cn = pd.read_csv('data/raw/cn_dev.csv', encoding='utf-8')"
   ]
  },
  {
   "cell_type": "code",
   "execution_count": 5,
   "metadata": {},
   "outputs": [
    {
     "data": {
      "text/plain": [
       "(12677, 6)"
      ]
     },
     "execution_count": 5,
     "metadata": {},
     "output_type": "execute_result"
    }
   ],
   "source": [
    "train_labeled_cn.shape"
   ]
  },
  {
   "cell_type": "code",
   "execution_count": 6,
   "metadata": {},
   "outputs": [
    {
     "data": {
      "text/plain": [
       "Index(['ID', 'Dialogue_id', 'Utterance_id', 'Speaker', 'Sentence', 'Label'], dtype='object')"
      ]
     },
     "execution_count": 6,
     "metadata": {},
     "output_type": "execute_result"
    }
   ],
   "source": [
    "train_labeled_cn.columns"
   ]
  },
  {
   "cell_type": "code",
   "execution_count": 7,
   "metadata": {
    "scrolled": true
   },
   "outputs": [
    {
     "data": {
      "text/html": [
       "<div>\n",
       "<style scoped>\n",
       "    .dataframe tbody tr th:only-of-type {\n",
       "        vertical-align: middle;\n",
       "    }\n",
       "\n",
       "    .dataframe tbody tr th {\n",
       "        vertical-align: top;\n",
       "    }\n",
       "\n",
       "    .dataframe thead th {\n",
       "        text-align: right;\n",
       "    }\n",
       "</style>\n",
       "<table border=\"1\" class=\"dataframe\">\n",
       "  <thead>\n",
       "    <tr style=\"text-align: right;\">\n",
       "      <th></th>\n",
       "      <th>ID</th>\n",
       "      <th>Dialogue_id</th>\n",
       "      <th>Utterance_id</th>\n",
       "      <th>Speaker</th>\n",
       "      <th>Sentence</th>\n",
       "      <th>Label</th>\n",
       "    </tr>\n",
       "  </thead>\n",
       "  <tbody>\n",
       "    <tr>\n",
       "      <th>0</th>\n",
       "      <td>0</td>\n",
       "      <td>0</td>\n",
       "      <td>0</td>\n",
       "      <td>卖油条小刘</td>\n",
       "      <td>我说</td>\n",
       "      <td>0</td>\n",
       "    </tr>\n",
       "    <tr>\n",
       "      <th>1</th>\n",
       "      <td>1</td>\n",
       "      <td>0</td>\n",
       "      <td>1</td>\n",
       "      <td>保姆小张</td>\n",
       "      <td>干啥子嘛？</td>\n",
       "      <td>0</td>\n",
       "    </tr>\n",
       "    <tr>\n",
       "      <th>2</th>\n",
       "      <td>2</td>\n",
       "      <td>0</td>\n",
       "      <td>2</td>\n",
       "      <td>卖油条小刘</td>\n",
       "      <td>你看你往星空看月朦胧，鸟朦胧</td>\n",
       "      <td>1</td>\n",
       "    </tr>\n",
       "    <tr>\n",
       "      <th>3</th>\n",
       "      <td>3</td>\n",
       "      <td>0</td>\n",
       "      <td>3</td>\n",
       "      <td>卖油条小刘</td>\n",
       "      <td>咱是不是歇一下这双，疲惫的双腿？</td>\n",
       "      <td>0</td>\n",
       "    </tr>\n",
       "    <tr>\n",
       "      <th>4</th>\n",
       "      <td>4</td>\n",
       "      <td>0</td>\n",
       "      <td>4</td>\n",
       "      <td>卖油条小刘</td>\n",
       "      <td>快把我累死了</td>\n",
       "      <td>0</td>\n",
       "    </tr>\n",
       "  </tbody>\n",
       "</table>\n",
       "</div>"
      ],
      "text/plain": [
       "   ID  Dialogue_id  Utterance_id Speaker          Sentence  Label\n",
       "0   0            0             0   卖油条小刘                我说      0\n",
       "1   1            0             1    保姆小张             干啥子嘛？      0\n",
       "2   2            0             2   卖油条小刘    你看你往星空看月朦胧，鸟朦胧      1\n",
       "3   3            0             3   卖油条小刘  咱是不是歇一下这双，疲惫的双腿？      0\n",
       "4   4            0             4   卖油条小刘            快把我累死了      0"
      ]
     },
     "execution_count": 7,
     "metadata": {},
     "output_type": "execute_result"
    }
   ],
   "source": [
    "train_labeled_cn.head(5)"
   ]
  },
  {
   "cell_type": "markdown",
   "metadata": {},
   "source": [
    "## 标签分布"
   ]
  },
  {
   "cell_type": "code",
   "execution_count": 8,
   "metadata": {},
   "outputs": [
    {
     "data": {
      "text/plain": [
       "0    9031\n",
       "1    3646\n",
       "Name: Label, dtype: int64"
      ]
     },
     "execution_count": 8,
     "metadata": {},
     "output_type": "execute_result"
    }
   ],
   "source": [
    "train_labeled_cn['Label'].value_counts()"
   ]
  },
  {
   "cell_type": "code",
   "execution_count": 10,
   "metadata": {
    "scrolled": true
   },
   "outputs": [
    {
     "data": {
      "image/png": "[encoded data removed]",
      "text/plain": [
       "<Figure size 432x288 with 1 Axes>"
      ]
     },
     "metadata": {
      "needs_background": "light"
     },
     "output_type": "display_data"
    }
   ],
   "source": [
    "%matplotlib inline\n",
    "train_labeled_cn['Label'].value_counts(normalize=True).plot(kind='bar');"
   ]
  },
  {
   "cell_type": "markdown",
   "metadata": {},
   "source": [
    "## 人物数量及标签分布"
   ]
  },
  {
   "cell_type": "code",
   "execution_count": 43,
   "metadata": {
    "scrolled": true
   },
   "outputs": [],
   "source": [
    "speaker_labels_mean = dict(train_labeled_cn.groupby(\"Speaker\")['Label'].mean())\n",
    "# sorted(speaker_labels_mean.items(), key=lambda item: item[1], reverse=True)"
   ]
  },
  {
   "cell_type": "code",
   "execution_count": 44,
   "metadata": {
    "scrolled": true
   },
   "outputs": [],
   "source": [
    "speaker_labels_sum = dict(train_labeled_cn.groupby(\"Speaker\")['Label'].sum())\n",
    "# print(speaker_labels_sum)\n",
    "# sorted(speaker_labels_sum.items(), key=lambda item: item[1], reverse=True)"
   ]
  },
  {
   "cell_type": "code",
   "execution_count": 48,
   "metadata": {},
   "outputs": [
    {
     "name": "stdout",
     "output_type": "stream",
     "text": [
      "Counter({'和平': 418, '傅明': 340, '志国': 224, '志新': 174, '圆圆': 130, '苏苏': 39, '保姆小张': 35, '和平她妈': 35, '于大妈': 27, '李大妈': 25, '燕红': 24, '居委会陈大妈': 23, '季春生': 22, '小凡': 21, '孟朝阳': 21, '保姆小兰': 15, '保姆小桂': 15, '胡三儿': 14, '股东男': 11, '电视台女记者': 6, '老郑': 6, '股东女': 5, '苏苏家保姆': 1, '众人齐声': 1})\n"
     ]
    }
   ],
   "source": [
    "from collections import Counter\n",
    "\n",
    "train_cn_counter = Counter(train_labeled_cn['Speaker'])\n",
    "dev_cn_counter = Counter(dev_cn['Speaker'])\n",
    "# print(train_cn_counter)\n",
    "# print(\"**********************************************\")\n",
    "print(dev_cn_counter)"
   ]
  },
  {
   "cell_type": "code",
   "execution_count": 49,
   "metadata": {},
   "outputs": [
    {
     "data": {
      "text/plain": [
       "[('电视台摄像', [1, 1, 1.0]),\n",
       " ('管道工人', [1, 1, 1.0]),\n",
       " ('保姆小兰', [13, 8, 0.615]),\n",
       " ('病人甲', [39, 20, 0.513]),\n",
       " ('灭鼠办领导', [4, 2, 0.5]),\n",
       " ('大个儿', [13, 6, 0.462]),\n",
       " ('苏苏爸', [68, 28, 0.412]),\n",
       " ('冯导助手', [10, 4, 0.4]),\n",
       " ('阿文', [20, 8, 0.4]),\n",
       " ('冯导演', [62, 23, 0.371]),\n",
       " ('傅明', [2585, 946, 0.366]),\n",
       " ('李秘', [25, 9, 0.36]),\n",
       " ('季春生', [131, 46, 0.351]),\n",
       " ('邻居保姆', [73, 25, 0.342]),\n",
       " ('宝财', [112, 38, 0.339]),\n",
       " ('王总', [61, 20, 0.328]),\n",
       " ('孟朝阳', [401, 131, 0.327]),\n",
       " ('居委会陈大妈', [123, 40, 0.325]),\n",
       " ('计生办李同志', [22, 7, 0.318]),\n",
       " ('卖油条小刘', [19, 6, 0.316]),\n",
       " ('大壮', [16, 5, 0.312]),\n",
       " ('志新', [1369, 419, 0.306]),\n",
       " ('保姆小张', [164, 48, 0.293]),\n",
       " ('圆圆', [796, 233, 0.293]),\n",
       " ('小芳大妈', [199, 58, 0.291]),\n",
       " ('燕红', [247, 72, 0.291]),\n",
       " ('胡学范', [126, 36, 0.286]),\n",
       " ('病人乙', [25, 7, 0.28]),\n",
       " ('老傅远房表姐', [83, 23, 0.277]),\n",
       " ('和平', [2549, 703, 0.276]),\n",
       " ('杨大夫', [46, 12, 0.261]),\n",
       " ('调解阿姨', [23, 6, 0.261]),\n",
       " ('小刘媳妇儿', [27, 7, 0.259]),\n",
       " ('和平她妈', [105, 27, 0.257]),\n",
       " ('胡三儿', [71, 18, 0.254]),\n",
       " ('刑警小宋女', [8, 2, 0.25]),\n",
       " ('杨晶晶', [8, 2, 0.25]),\n",
       " ('报社小尤', [108, 26, 0.241]),\n",
       " ('志国', [1549, 371, 0.24]),\n",
       " ('车祸学生', [40, 9, 0.225]),\n",
       " ('孟朝辉', [54, 12, 0.222]),\n",
       " ('老郑', [78, 17, 0.218]),\n",
       " ('女骗子', [69, 15, 0.217]),\n",
       " ('张同志', [5, 1, 0.2]),\n",
       " ('保姆小桂', [221, 44, 0.199]),\n",
       " ('老胡爱人', [26, 5, 0.192]),\n",
       " ('张国荣经纪人', [11, 2, 0.182]),\n",
       " ('苏苏', [11, 2, 0.182]),\n",
       " ('车祸男子', [29, 5, 0.172]),\n",
       " ('小凡', [240, 40, 0.167]),\n",
       " ('文怡', [6, 1, 0.167]),\n",
       " ('澡堂老板', [12, 2, 0.167]),\n",
       " ('春花', [51, 8, 0.157]),\n",
       " ('于大妈', [93, 14, 0.151]),\n",
       " ('车祸大妈', [36, 5, 0.139]),\n",
       " ('小任姑娘', [8, 1, 0.125]),\n",
       " ('李大妈', [24, 3, 0.125]),\n",
       " ('警察小许', [8, 1, 0.125]),\n",
       " ('众人齐声', [11, 1, 0.091]),\n",
       " ('音乐吴老师', [42, 3, 0.071]),\n",
       " ('小晴', [108, 6, 0.056]),\n",
       " ('电视台女记者', [40, 2, 0.05]),\n",
       " ('刑警小段男', [58, 2, 0.034]),\n",
       " ('车祸警察', [30, 1, 0.033]),\n",
       " ('DEC公司总裁', [8, 0, 0.0]),\n",
       " ('DEC公司老外', [7, 0, 0.0]),\n",
       " ('小兰', [1, 0, 0.0]),\n",
       " ('小史姑娘', [3, 0, 0.0]),\n",
       " ('服务员', [2, 0, 0.0]),\n",
       " ('气功大师', [16, 0, 0.0]),\n",
       " ('牛小姐', [7, 0, 0.0]),\n",
       " ('编辑部李同志', [8, 0, 0.0]),\n",
       " ('老姜', [1, 0, 0.0]),\n",
       " ('苏苏家保姆', [1, 0, 0.0]),\n",
       " ('马小姐', [9, 0, 0.0]),\n",
       " ('齐大妈', [1, 0, 0.0])]"
      ]
     },
     "execution_count": 49,
     "metadata": {},
     "output_type": "execute_result"
    }
   ],
   "source": [
    "speaker_analysis = {}\n",
    "\n",
    "for (key, value) in speaker_labels_sum.items():\n",
    "    speaker_analysis[key] = [round(train_cn_counter[key], 3), value, round(speaker_labels_mean[key], 3)]\n",
    "\n",
    "# print(speaker_analysis)\n",
    "sorted(speaker_analysis.items(), key=lambda item: item[1][2], reverse=True)"
   ]
  },
  {
   "cell_type": "code",
   "execution_count": 50,
   "metadata": {},
   "outputs": [
    {
     "name": "stdout",
     "output_type": "stream",
     "text": [
      "训练集人物个数： 76\n",
      "开发集人物个数： 24\n",
      "{'股东男', '股东女'}\n"
     ]
    }
   ],
   "source": [
    "train_cn_set = set(train_labeled_cn['Speaker'])\n",
    "dev_cn_set = set(dev_cn['Speaker'])\n",
    "print(\"训练集人物个数：\", len(train_cn_set))\n",
    "print(\"开发集人物个数：\", len(dev_cn_set))\n",
    "print(dev_cn_set - train_cn_set)"
   ]
  },
  {
   "cell_type": "markdown",
   "metadata": {},
   "source": [
    "把训练集中的笑点数为0的speaker全丢到一类：other，开发集中有在训练集中未出现过的speaker就不管了"
   ]
  },
  {
   "cell_type": "markdown",
   "metadata": {},
   "source": [
    "## 文本长度"
   ]
  },
  {
   "cell_type": "code",
   "execution_count": 9,
   "metadata": {},
   "outputs": [
    {
     "data": {
      "text/plain": [
       "count    12677.000000\n",
       "mean        15.119508\n",
       "std         10.051367\n",
       "min          1.000000\n",
       "25%          8.000000\n",
       "50%         13.000000\n",
       "75%         20.000000\n",
       "max        143.000000\n",
       "Name: Sentence, dtype: float64"
      ]
     },
     "execution_count": 9,
     "metadata": {},
     "output_type": "execute_result"
    }
   ],
   "source": [
    "train_labeled['Sentence'].str.len().describe()"
   ]
  },
  {
   "cell_type": "markdown",
   "metadata": {},
   "source": [
    "## 数据划分"
   ]
  },
  {
   "cell_type": "code",
   "execution_count": 11,
   "metadata": {},
   "outputs": [],
   "source": [
    "from sklearn.model_selection import train_test_split\n",
    "\n",
    "dataset = train_labeled[['Dialogue_id', 'Speaker', 'Sentence', 'Label']]\n",
    "train, valid = train_test_split(dataset, test_size=0.2, stratify=train_labeled['Label'], random_state=1000)\n",
    "train.to_csv('data/preprocess/cn_train.tsv', index=False, header=False, sep='\\t',encoding='utf-8')\n",
    "valid.to_csv('data/preprocess/cn_dev.tsv', index=False, header=False, sep='\\t', encoding='utf-8')"
   ]
  },
  {
   "cell_type": "code",
   "execution_count": 12,
   "metadata": {},
   "outputs": [],
   "source": [
    "dataset.to_csv('data/preprocess/cn_total.tsv', index=False, header=False, sep='\\t', encoding='utf-8')"
   ]
  },
  {
   "cell_type": "markdown",
   "metadata": {},
   "source": [
    "# 英文"
   ]
  },
  {
   "cell_type": "code",
   "execution_count": 1,
   "metadata": {},
   "outputs": [],
   "source": [
    "import pandas as pd\n",
    "\n",
    "train_labeled_en = pd.read_csv('data/raw/en_train.csv', encoding='utf-8')\n",
    "dev_en = pd.read_csv('data/raw/en_dev.csv', encoding='utf-8')"
   ]
  },
  {
   "cell_type": "code",
   "execution_count": 2,
   "metadata": {},
   "outputs": [
    {
     "data": {
      "text/plain": [
       "(7472, 6)"
      ]
     },
     "execution_count": 2,
     "metadata": {},
     "output_type": "execute_result"
    }
   ],
   "source": [
    "train_labeled_en.shape"
   ]
  },
  {
   "cell_type": "code",
   "execution_count": 3,
   "metadata": {},
   "outputs": [
    {
     "data": {
      "text/plain": [
       "Index(['ID', 'Dialogue_id', 'Utterance_id', 'Speaker', 'Sentence', 'Label'], dtype='object')"
      ]
     },
     "execution_count": 3,
     "metadata": {},
     "output_type": "execute_result"
    }
   ],
   "source": [
    "train_labeled_en.columns"
   ]
  },
  {
   "cell_type": "code",
   "execution_count": 4,
   "metadata": {},
   "outputs": [
    {
     "data": {
      "text/html": [
       "<div>\n",
       "<style scoped>\n",
       "    .dataframe tbody tr th:only-of-type {\n",
       "        vertical-align: middle;\n",
       "    }\n",
       "\n",
       "    .dataframe tbody tr th {\n",
       "        vertical-align: top;\n",
       "    }\n",
       "\n",
       "    .dataframe thead th {\n",
       "        text-align: right;\n",
       "    }\n",
       "</style>\n",
       "<table border=\"1\" class=\"dataframe\">\n",
       "  <thead>\n",
       "    <tr style=\"text-align: right;\">\n",
       "      <th></th>\n",
       "      <th>ID</th>\n",
       "      <th>Dialogue_id</th>\n",
       "      <th>Utterance_id</th>\n",
       "      <th>Speaker</th>\n",
       "      <th>Sentence</th>\n",
       "      <th>Label</th>\n",
       "    </tr>\n",
       "  </thead>\n",
       "  <tbody>\n",
       "    <tr>\n",
       "      <th>0</th>\n",
       "      <td>0</td>\n",
       "      <td>0</td>\n",
       "      <td>0</td>\n",
       "      <td>Chandler</td>\n",
       "      <td>also I was the point person on my companys tr...</td>\n",
       "      <td>0</td>\n",
       "    </tr>\n",
       "    <tr>\n",
       "      <th>1</th>\n",
       "      <td>1</td>\n",
       "      <td>0</td>\n",
       "      <td>1</td>\n",
       "      <td>The Interviewer</td>\n",
       "      <td>You mustve had your hands full.</td>\n",
       "      <td>0</td>\n",
       "    </tr>\n",
       "    <tr>\n",
       "      <th>2</th>\n",
       "      <td>2</td>\n",
       "      <td>0</td>\n",
       "      <td>2</td>\n",
       "      <td>Chandler</td>\n",
       "      <td>That I did. That I did.</td>\n",
       "      <td>0</td>\n",
       "    </tr>\n",
       "    <tr>\n",
       "      <th>3</th>\n",
       "      <td>3</td>\n",
       "      <td>0</td>\n",
       "      <td>3</td>\n",
       "      <td>The Interviewer</td>\n",
       "      <td>So lets talk a little bit about your duties.</td>\n",
       "      <td>0</td>\n",
       "    </tr>\n",
       "    <tr>\n",
       "      <th>4</th>\n",
       "      <td>4</td>\n",
       "      <td>0</td>\n",
       "      <td>4</td>\n",
       "      <td>Chandler</td>\n",
       "      <td>My duties?  All right.</td>\n",
       "      <td>1</td>\n",
       "    </tr>\n",
       "  </tbody>\n",
       "</table>\n",
       "</div>"
      ],
      "text/plain": [
       "   ID  Dialogue_id  Utterance_id          Speaker  \\\n",
       "0   0            0             0         Chandler   \n",
       "1   1            0             1  The Interviewer   \n",
       "2   2            0             2         Chandler   \n",
       "3   3            0             3  The Interviewer   \n",
       "4   4            0             4         Chandler   \n",
       "\n",
       "                                            Sentence  Label  \n",
       "0  also I was the point person on my companys tr...      0  \n",
       "1                   You mustve had your hands full.      0  \n",
       "2                            That I did. That I did.      0  \n",
       "3      So lets talk a little bit about your duties.      0  \n",
       "4                             My duties?  All right.      1  "
      ]
     },
     "execution_count": 4,
     "metadata": {},
     "output_type": "execute_result"
    }
   ],
   "source": [
    "train_labeled_en.head(5)"
   ]
  },
  {
   "cell_type": "markdown",
   "metadata": {},
   "source": [
    "## 标签分布"
   ]
  },
  {
   "cell_type": "code",
   "execution_count": 5,
   "metadata": {},
   "outputs": [
    {
     "data": {
      "text/plain": [
       "0    5699\n",
       "1    1773\n",
       "Name: Label, dtype: int64"
      ]
     },
     "execution_count": 5,
     "metadata": {},
     "output_type": "execute_result"
    }
   ],
   "source": [
    "train_labeled_en['Label'].value_counts()"
   ]
  },
  {
   "cell_type": "code",
   "execution_count": 6,
   "metadata": {},
   "outputs": [
    {
     "data": {
      "image/png": "[encoded data removed]",
      "text/plain": [
       "<Figure size 432x288 with 1 Axes>"
      ]
     },
     "metadata": {
      "needs_background": "light"
     },
     "output_type": "display_data"
    }
   ],
   "source": [
    "%matplotlib inline\n",
    "train_labeled_en['Label'].value_counts(normalize=True).plot(kind='bar');"
   ]
  },
  {
   "cell_type": "markdown",
   "metadata": {},
   "source": [
    "## 人物数量及标签分布"
   ]
  },
  {
   "cell_type": "code",
   "execution_count": 57,
   "metadata": {},
   "outputs": [],
   "source": [
    "speaker_en_labels_mean = dict(train_labeled_en.groupby(\"Speaker\")['Label'].mean())\n",
    "# sorted(speaker_labels_mean.items(), key=lambda item: item[1], reverse=True)"
   ]
  },
  {
   "cell_type": "code",
   "execution_count": 58,
   "metadata": {},
   "outputs": [],
   "source": [
    "speaker_en_labels_sum = dict(train_labeled_en.groupby(\"Speaker\")['Label'].sum())\n",
    "# print(speaker_labels_sum)\n",
    "# sorted(speaker_labels_sum.items(), key=lambda item: item[1], reverse=True)"
   ]
  },
  {
   "cell_type": "code",
   "execution_count": 59,
   "metadata": {},
   "outputs": [
    {
     "name": "stdout",
     "output_type": "stream",
     "text": [
      "Counter({'Ross': 182, 'Phoebe': 145, 'Rachel': 143, 'Joey': 126, 'Monica': 107, 'Chandler': 82, 'Frank': 17, 'Carol': 10, 'All': 8, 'Susan': 8, 'Dr. Long': 8, 'Joanna': 7, 'Tag': 7, 'Bob': 5, 'Max': 5, 'Woman': 4, 'Whitney': 4, 'Kori': 4, 'Jen': 4, 'Janine': 4, 'Lauren': 4, 'Estelle': 4, 'Alice': 3, 'Kyle': 3, 'The Hot Girl': 3, 'Ross and Rachel': 3, 'Guy': 2, 'Gary': 2, 'Dr. Harad': 2, 'TV Announcer': 2, 'Mrs. Green': 1, 'Cookie': 1, 'Monica and Rachel': 1, 'Stage Manager': 1, 'Kate': 1, 'Doctor': 1})\n"
     ]
    }
   ],
   "source": [
    "from collections import Counter\n",
    "\n",
    "train_en_counter = Counter(train_labeled_en['Speaker'])\n",
    "dev_en_counter = Counter(dev_en['Speaker'])\n",
    "# print(train_cn_counter)\n",
    "# print(\"**********************************************\")\n",
    "print(dev_en_counter)"
   ]
  },
  {
   "cell_type": "code",
   "execution_count": 60,
   "metadata": {},
   "outputs": [
    {
     "data": {
      "text/plain": [
       "[('A Student', [1, 1, 1.0]),\n",
       " ('Another Tour Guide', [1, 1, 1.0]),\n",
       " ('Emeril', [1, 1, 1.0]),\n",
       " ('Fireman No. 2', [2, 2, 1.0]),\n",
       " ('Gary Collins', [1, 1, 1.0]),\n",
       " ('Hold Voice', [1, 1, 1.0]),\n",
       " ('Janitor', [1, 1, 1.0]),\n",
       " ('Message', [1, 1, 1.0]),\n",
       " ('Mrs. Waltham', [1, 1, 1.0]),\n",
       " ('Peter', [1, 1, 1.0]),\n",
       " ('Phoebe and Rachel', [1, 1, 1.0]),\n",
       " ('Professore Clerk', [1, 1, 1.0]),\n",
       " ('Rachel and Phoebe', [1, 1, 1.0]),\n",
       " ('The Singing Man', [2, 2, 1.0]),\n",
       " ('Tour Guide', [1, 1, 1.0]),\n",
       " ('Voice', [2, 2, 1.0]),\n",
       " ('Wayne', [1, 1, 1.0]),\n",
       " ('Mr. Heckles', [9, 7, 0.778]),\n",
       " ('Bobby', [4, 3, 0.75]),\n",
       " ('Alice', [3, 2, 0.667]),\n",
       " ('Director', [3, 2, 0.667]),\n",
       " ('Hotel Clerk', [3, 2, 0.667]),\n",
       " ('The Food Critic', [3, 2, 0.667]),\n",
       " ('Ticket Counter Attendant', [3, 2, 0.667]),\n",
       " ('Gunther', [14, 9, 0.643]),\n",
       " ('The Director', [7, 4, 0.571]),\n",
       " ('Paul', [13, 7, 0.538]),\n",
       " ('Airline Employee', [2, 1, 0.5]),\n",
       " ('Another Scientist', [2, 1, 0.5]),\n",
       " ('Bonnie', [4, 2, 0.5]),\n",
       " ('Carl', [2, 1, 0.5]),\n",
       " ('Dr. Rhodes', [2, 1, 0.5]),\n",
       " ('Dr. Wesley', [2, 1, 0.5]),\n",
       " ('Frank', [12, 6, 0.5]),\n",
       " ('Jim', [6, 3, 0.5]),\n",
       " ('Kiki', [2, 1, 0.5]),\n",
       " ('Leader', [2, 1, 0.5]),\n",
       " ('Mr. Waltham', [2, 1, 0.5]),\n",
       " ('Mrs. Burgin', [2, 1, 0.5]),\n",
       " ('Older Scientist', [2, 1, 0.5]),\n",
       " ('PBS Volunteer', [2, 1, 0.5]),\n",
       " ('Sophie', [2, 1, 0.5]),\n",
       " ('Woman On Train', [4, 2, 0.5]),\n",
       " ('Earl', [7, 3, 0.429]),\n",
       " ('Russell', [10, 4, 0.4]),\n",
       " ('Kim', [8, 3, 0.375]),\n",
       " ('Man', [8, 3, 0.375]),\n",
       " ('Shelley', [8, 3, 0.375]),\n",
       " ('Mr. Geller', [17, 6, 0.353]),\n",
       " ('Barry', [9, 3, 0.333]),\n",
       " ('Girl', [3, 1, 0.333]),\n",
       " (\"Joey's Hand Twin\", [3, 1, 0.333]),\n",
       " ('Krista', [6, 2, 0.333]),\n",
       " ('Leslie', [3, 1, 0.333]),\n",
       " ('Chandler', [944, 302, 0.32]),\n",
       " ('Joanna', [25, 8, 0.32]),\n",
       " ('Joey', [1104, 343, 0.311]),\n",
       " ('Chip', [10, 3, 0.3]),\n",
       " ('Janice', [34, 10, 0.294]),\n",
       " ('Phoebe', [984, 282, 0.287]),\n",
       " ('Mr. Treeger', [21, 6, 0.286]),\n",
       " ('Receptionist', [7, 2, 0.286]),\n",
       " ('Richard', [14, 4, 0.286]),\n",
       " ('Allesandro', [4, 1, 0.25]),\n",
       " ('David', [4, 1, 0.25]),\n",
       " ('Dr. Drake Remoray', [4, 1, 0.25]),\n",
       " ('Eric', [16, 4, 0.25]),\n",
       " ('Fireman No. 3', [4, 1, 0.25]),\n",
       " ('Jade', [4, 1, 0.25]),\n",
       " ('Jester', [4, 1, 0.25]),\n",
       " ('Kathy', [8, 2, 0.25]),\n",
       " ('Kyle', [4, 1, 0.25]),\n",
       " ('Mr. Burgin', [4, 1, 0.25]),\n",
       " ('Paula', [4, 1, 0.25]),\n",
       " ('Ronni', [4, 1, 0.25]),\n",
       " ('Sarah', [4, 1, 0.25]),\n",
       " ('Ross', [1142, 259, 0.227]),\n",
       " ('Isabella', [9, 2, 0.222]),\n",
       " ('Robert', [9, 2, 0.222]),\n",
       " ('Carol', [42, 9, 0.214]),\n",
       " ('Pete', [28, 6, 0.214]),\n",
       " ('Mark', [19, 4, 0.211]),\n",
       " ('Fake Monica', [5, 1, 0.2]),\n",
       " ('Mr. Franklin', [5, 1, 0.2]),\n",
       " ('Mrs. Green', [5, 1, 0.2]),\n",
       " ('Phoebe Sr.', [5, 1, 0.2]),\n",
       " ('Rick', [5, 1, 0.2]),\n",
       " ('The Fireman', [5, 1, 0.2]),\n",
       " ('Rachel', [1058, 196, 0.185]),\n",
       " ('Cassie', [11, 2, 0.182]),\n",
       " ('Issac', [11, 2, 0.182]),\n",
       " ('Stanley', [11, 2, 0.182]),\n",
       " ('Flight Attendant', [6, 1, 0.167]),\n",
       " ('Joshua', [6, 1, 0.167]),\n",
       " ('Stage Director', [6, 1, 0.167]),\n",
       " ('Steve', [6, 1, 0.167]),\n",
       " ('The Smoking Woman', [6, 1, 0.167]),\n",
       " ('Young Ethan', [6, 1, 0.167]),\n",
       " ('Kristen', [13, 2, 0.154]),\n",
       " ('Monica', [979, 148, 0.151]),\n",
       " ('Terry', [7, 1, 0.143]),\n",
       " ('The Interviewer', [7, 1, 0.143]),\n",
       " ('All', [29, 4, 0.138]),\n",
       " ('Susan', [15, 2, 0.133]),\n",
       " ('Janine', [8, 1, 0.125]),\n",
       " ('Megan', [8, 1, 0.125]),\n",
       " ('Mrs. Geller', [16, 2, 0.125]),\n",
       " ('Elizabeth', [17, 2, 0.118]),\n",
       " ('Doug', [26, 3, 0.115]),\n",
       " ('Mike', [9, 1, 0.111]),\n",
       " ('Phoebe Sr', [18, 2, 0.111]),\n",
       " ('Tag', [28, 3, 0.107]),\n",
       " ('Mischa', [10, 1, 0.1]),\n",
       " ('Julie', [12, 1, 0.083]),\n",
       " ('Julio', [12, 1, 0.083]),\n",
       " ('Katie', [12, 1, 0.083]),\n",
       " ('Mr. Tribbiani', [12, 1, 0.083]),\n",
       " ('Emily', [39, 3, 0.077]),\n",
       " ('Mona', [29, 2, 0.069]),\n",
       " ('Dr. Green', [16, 1, 0.062]),\n",
       " ('Danny', [20, 1, 0.05]),\n",
       " ('1st Customer', [1, 0, 0.0]),\n",
       " ('2nd Customer', [1, 0, 0.0]),\n",
       " ('3rd Customer', [2, 0, 0.0]),\n",
       " ('Aunt Lillian', [1, 0, 0.0]),\n",
       " ('Ben', [8, 0, 0.0]),\n",
       " ('Bernice', [1, 0, 0.0]),\n",
       " ('Bob', [1, 0, 0.0]),\n",
       " ('Both', [1, 0, 0.0]),\n",
       " ('Burt', [1, 0, 0.0]),\n",
       " ('Caitlin', [2, 0, 0.0]),\n",
       " ('Casey', [2, 0, 0.0]),\n",
       " ('Charlie', [11, 0, 0.0]),\n",
       " ('Chloe', [6, 0, 0.0]),\n",
       " ('Cliff', [8, 0, 0.0]),\n",
       " ('Customer', [1, 0, 0.0]),\n",
       " ('Dana', [7, 0, 0.0]),\n",
       " ('Dina', [12, 0, 0.0]),\n",
       " ('Dr. Franzblau', [2, 0, 0.0]),\n",
       " ('Dr. Long', [3, 0, 0.0]),\n",
       " ('Dr. Miller', [4, 0, 0.0]),\n",
       " ('Dr. Oberman', [2, 0, 0.0]),\n",
       " ('Dr. Stryker Ramoray', [1, 0, 0.0]),\n",
       " ('Dr. Zane', [6, 0, 0.0]),\n",
       " ('Drunken Gambler', [1, 0, 0.0]),\n",
       " ('Duncan', [8, 0, 0.0]),\n",
       " ('Fireman No. 1', [2, 0, 0.0]),\n",
       " ('Friend No. 1', [1, 0, 0.0]),\n",
       " ('Friend No. 2', [2, 0, 0.0]),\n",
       " ('Front Desk Clerk', [1, 0, 0.0]),\n",
       " ('Gary', [5, 0, 0.0]),\n",
       " ('Gerston', [2, 0, 0.0]),\n",
       " ('Guy', [6, 0, 0.0]),\n",
       " ('Guy #1', [1, 0, 0.0]),\n",
       " ('Her-Friends', [1, 0, 0.0]),\n",
       " ('Hitchhiker', [2, 0, 0.0]),\n",
       " ('Hope', [2, 0, 0.0]),\n",
       " ('Jane', [3, 0, 0.0]),\n",
       " ('Jay Leno', [2, 0, 0.0]),\n",
       " ('Jeannine', [1, 0, 0.0]),\n",
       " ('Jill', [6, 0, 0.0]),\n",
       " ('Joanne', [3, 0, 0.0]),\n",
       " ('Joey and Chandler', [1, 0, 0.0]),\n",
       " ('Joey and Ross', [1, 0, 0.0]),\n",
       " ('Joey/Drake', [6, 0, 0.0]),\n",
       " ('Kate', [13, 0, 0.0]),\n",
       " ('Kristin', [2, 0, 0.0]),\n",
       " ('Larry', [7, 0, 0.0]),\n",
       " ('Liam', [3, 0, 0.0]),\n",
       " ('Lorraine', [4, 0, 0.0]),\n",
       " (\"Maitre d'\", [3, 0, 0.0]),\n",
       " (\"Mona's Date\", [3, 0, 0.0]),\n",
       " ('Monica and Phoebe', [1, 0, 0.0]),\n",
       " ('Monica and Ross', [1, 0, 0.0]),\n",
       " ('Mr. Posner', [2, 0, 0.0]),\n",
       " ('Mr. Zelner', [2, 0, 0.0]),\n",
       " ('Mrs. Chatracus', [1, 0, 0.0]),\n",
       " ('Mrs. Lynch', [1, 0, 0.0]),\n",
       " ('Mrs. Tedlock', [1, 0, 0.0]),\n",
       " ('Ms. McKenna', [3, 0, 0.0]),\n",
       " ('Nancy', [5, 0, 0.0]),\n",
       " ('Nurse', [3, 0, 0.0]),\n",
       " ('Nurse #1', [1, 0, 0.0]),\n",
       " ('Nurse #2', [1, 0, 0.0]),\n",
       " ('Paleontologist', [1, 0, 0.0]),\n",
       " ('Paolo', [1, 0, 0.0]),\n",
       " ('Petrie', [1, 0, 0.0]),\n",
       " ('Policeman', [9, 0, 0.0]),\n",
       " ('Rachel/actress', [2, 0, 0.0]),\n",
       " ('Robbie', [1, 0, 0.0]),\n",
       " ('Roger', [4, 0, 0.0]),\n",
       " ('Ross and Joey', [1, 0, 0.0]),\n",
       " ('Santos', [2, 0, 0.0]),\n",
       " ('Singer', [3, 0, 0.0]),\n",
       " ('Stevens', [1, 0, 0.0]),\n",
       " ('Stranger', [4, 0, 0.0]),\n",
       " ('Student', [1, 0, 0.0]),\n",
       " ('Teacher', [5, 0, 0.0]),\n",
       " ('The Assistant Director', [1, 0, 0.0]),\n",
       " ('The Casting Director', [4, 0, 0.0]),\n",
       " ('The Cigarette Guy', [1, 0, 0.0]),\n",
       " ('The Conductor', [1, 0, 0.0]),\n",
       " ('The Cooking Teacher', [10, 0, 0.0]),\n",
       " ('The Croupier', [1, 0, 0.0]),\n",
       " ('The Grip', [2, 0, 0.0]),\n",
       " ('The Instructor', [3, 0, 0.0]),\n",
       " ('The Lurker', [3, 0, 0.0]),\n",
       " ('The Museum Official', [2, 0, 0.0]),\n",
       " ('The Potential Roommate', [7, 0, 0.0]),\n",
       " ('The Security Guard', [5, 0, 0.0]),\n",
       " ('Tony', [3, 0, 0.0]),\n",
       " ('Trudie Styler', [4, 0, 0.0]),\n",
       " ('Waiter', [1, 0, 0.0]),\n",
       " ('Woman', [15, 0, 0.0]),\n",
       " ('an', [2, 0, 0.0])]"
      ]
     },
     "execution_count": 60,
     "metadata": {},
     "output_type": "execute_result"
    }
   ],
   "source": [
    "speaker_analysis_en = {}\n",
    "\n",
    "for (key, value) in speaker_en_labels_sum.items():\n",
    "    speaker_analysis_en[key] = [round(train_en_counter[key], 3), value, round(speaker_en_labels_mean[key], 3)]\n",
    "\n",
    "# print(speaker_analysis)\n",
    "sorted(speaker_analysis_en.items(), key=lambda item: item[1][2], reverse=True)"
   ]
  },
  {
   "cell_type": "code",
   "execution_count": 7,
   "metadata": {},
   "outputs": [
    {
     "name": "stdout",
     "output_type": "stream",
     "text": [
      "训练集人物个数： 215\n",
      "开发集人物个数： 36\n",
      "{'TV Announcer', 'Doctor', 'Monica and Rachel', 'Cookie', 'Stage Manager', 'Lauren', 'The Hot Girl', 'Jen', 'Estelle', 'Whitney', 'Kori', 'Ross and Rachel', 'Dr. Harad', 'Max'}\n"
     ]
    }
   ],
   "source": [
    "train_en_set = set(train_labeled_en['Speaker'])\n",
    "dev_en_set = set(dev_en['Speaker'])\n",
    "print(\"训练集人物个数：\", len(train_en_set))\n",
    "print(\"开发集人物个数：\", len(dev_en_set))\n",
    "print(dev_en_set - train_en_set)"
   ]
  },
  {
   "cell_type": "markdown",
   "metadata": {},
   "source": [
    "## 文本长度"
   ]
  },
  {
   "cell_type": "code",
   "execution_count": 36,
   "metadata": {
    "scrolled": true
   },
   "outputs": [
    {
     "data": {
      "text/plain": [
       "count    7472.000000\n",
       "mean        8.019540\n",
       "std         6.346561\n",
       "min         1.000000\n",
       "25%         3.000000\n",
       "50%         6.000000\n",
       "75%        11.000000\n",
       "max        69.000000\n",
       "Name: Sentence, dtype: float64"
      ]
     },
     "execution_count": 36,
     "metadata": {},
     "output_type": "execute_result"
    }
   ],
   "source": [
    "train_labeled_en['Sentence'].apply(lambda x : len(str(x).split(\" \"))).describe()"
   ]
  },
  {
   "cell_type": "markdown",
   "metadata": {},
   "source": [
    "## 数据划分"
   ]
  },
  {
   "cell_type": "code",
   "execution_count": 16,
   "metadata": {},
   "outputs": [],
   "source": [
    "from sklearn.model_selection import train_test_split\n",
    "\n",
    "dataset = train_labeled_en[['Dialogue_id', 'Speaker', 'Sentence', 'Label']]\n",
    "train, valid = train_test_split(dataset, test_size=0.2, stratify=train_labeled['Label'], random_state=1000)\n",
    "train.to_csv('data/preprocess/en_train.tsv', index=False, header=False, sep='\\t',encoding='utf-8')\n",
    "valid.to_csv('data/preprocess/en_dev.tsv', index=False, header=False, sep='\\t', encoding='utf-8')"
   ]
  },
  {
   "cell_type": "code",
   "execution_count": 17,
   "metadata": {},
   "outputs": [],
   "source": [
    "dataset.to_csv('data/preprocess/en_total.tsv', index=False, header=False, sep='\\t', encoding='utf-8')"
   ]
  },
  {
   "cell_type": "code",
   "execution_count": null,
   "metadata": {},
   "outputs": [],
   "source": []
  },
  {
   "cell_type": "code",
   "execution_count": 8,
   "metadata": {},
   "outputs": [],
   "source": [
    "import pandas as pd\n",
    "train_labeled_en = pd.read_csv('data/raw/cn_dev.csv', encoding='utf-8')"
   ]
  },
  {
   "cell_type": "code",
   "execution_count": 9,
   "metadata": {},
   "outputs": [
    {
     "data": {
      "text/plain": [
       "(1632, 5)"
      ]
     },
     "execution_count": 9,
     "metadata": {},
     "output_type": "execute_result"
    }
   ],
   "source": [
    "train_labeled_en.shape"
   ]
  },
  {
   "cell_type": "code",
   "execution_count": 10,
   "metadata": {},
   "outputs": [
    {
     "data": {
      "text/plain": [
       "Index(['ID', 'Dialogue_id', 'Utterance_id', 'Speaker', 'Sentence'], dtype='object')"
      ]
     },
     "execution_count": 10,
     "metadata": {},
     "output_type": "execute_result"
    }
   ],
   "source": [
    "train_labeled_en.columns"
   ]
  },
  {
   "cell_type": "code",
   "execution_count": 11,
   "metadata": {},
   "outputs": [
    {
     "data": {
      "text/html": [
       "<div>\n",
       "<style scoped>\n",
       "    .dataframe tbody tr th:only-of-type {\n",
       "        vertical-align: middle;\n",
       "    }\n",
       "\n",
       "    .dataframe tbody tr th {\n",
       "        vertical-align: top;\n",
       "    }\n",
       "\n",
       "    .dataframe thead th {\n",
       "        text-align: right;\n",
       "    }\n",
       "</style>\n",
       "<table border=\"1\" class=\"dataframe\">\n",
       "  <thead>\n",
       "    <tr style=\"text-align: right;\">\n",
       "      <th></th>\n",
       "      <th>ID</th>\n",
       "      <th>Dialogue_id</th>\n",
       "      <th>Utterance_id</th>\n",
       "      <th>Speaker</th>\n",
       "      <th>Sentence</th>\n",
       "    </tr>\n",
       "  </thead>\n",
       "  <tbody>\n",
       "    <tr>\n",
       "      <th>0</th>\n",
       "      <td>0</td>\n",
       "      <td>0</td>\n",
       "      <td>0</td>\n",
       "      <td>和平</td>\n",
       "      <td>唉  李大妈您走错了，客厅挨那边儿</td>\n",
       "    </tr>\n",
       "    <tr>\n",
       "      <th>1</th>\n",
       "      <td>1</td>\n",
       "      <td>0</td>\n",
       "      <td>1</td>\n",
       "      <td>李大妈</td>\n",
       "      <td>没错，我这儿多少年老习惯了见天早起，我就要挨屋擦一遍不擦呀心里头膈应</td>\n",
       "    </tr>\n",
       "    <tr>\n",
       "      <th>2</th>\n",
       "      <td>2</td>\n",
       "      <td>0</td>\n",
       "      <td>2</td>\n",
       "      <td>志国</td>\n",
       "      <td>那您挨这屋晃您不怕我们心里膈应呀您</td>\n",
       "    </tr>\n",
       "    <tr>\n",
       "      <th>3</th>\n",
       "      <td>3</td>\n",
       "      <td>0</td>\n",
       "      <td>3</td>\n",
       "      <td>李大妈</td>\n",
       "      <td>不碍的！</td>\n",
       "    </tr>\n",
       "    <tr>\n",
       "      <th>4</th>\n",
       "      <td>4</td>\n",
       "      <td>0</td>\n",
       "      <td>4</td>\n",
       "      <td>李大妈</td>\n",
       "      <td>咱明媒正娶，怕谁呀！踏踏实实的</td>\n",
       "    </tr>\n",
       "  </tbody>\n",
       "</table>\n",
       "</div>"
      ],
      "text/plain": [
       "   ID  Dialogue_id  Utterance_id Speaker                            Sentence\n",
       "0   0            0             0      和平                   唉  李大妈您走错了，客厅挨那边儿\n",
       "1   1            0             1     李大妈  没错，我这儿多少年老习惯了见天早起，我就要挨屋擦一遍不擦呀心里头膈应\n",
       "2   2            0             2      志国                   那您挨这屋晃您不怕我们心里膈应呀您\n",
       "3   3            0             3     李大妈                                不碍的！\n",
       "4   4            0             4     李大妈                     咱明媒正娶，怕谁呀！踏踏实实的"
      ]
     },
     "execution_count": 11,
     "metadata": {},
     "output_type": "execute_result"
    }
   ],
   "source": [
    "train_labeled_en.head(5)"
   ]
  },
  {
   "cell_type": "code",
   "execution_count": 12,
   "metadata": {},
   "outputs": [
    {
     "data": {
      "text/plain": [
       "count    1632.000000\n",
       "mean        1.178922\n",
       "std         0.572063\n",
       "min         1.000000\n",
       "25%         1.000000\n",
       "50%         1.000000\n",
       "75%         1.000000\n",
       "max         7.000000\n",
       "Name: Sentence, dtype: float64"
      ]
     },
     "execution_count": 12,
     "metadata": {},
     "output_type": "execute_result"
    }
   ],
   "source": [
    "train_labeled_en['Sentence'].apply(lambda x : len(str(x).split(\" \"))).describe()"
   ]
  },
  {
   "cell_type": "code",
   "execution_count": 13,
   "metadata": {},
   "outputs": [],
   "source": [
    "dataset = train_labeled_en[['Dialogue_id', 'Speaker', 'Sentence']]\n",
    "dataset.to_csv('data/preprocess/cn_test.tsv', index=False, header=False, sep='\\t', encoding='utf-8')"
   ]
  },
  {
   "cell_type": "code",
   "execution_count": null,
   "metadata": {},
   "outputs": [],
   "source": []
  }
 ],
 "metadata": {
  "kernelspec": {
   "display_name": "Python 3",
   "language": "python",
   "name": "python3"
  },
  "language_info": {
   "codemirror_mode": {
    "name": "ipython",
    "version": 3
   },
   "file_extension": ".py",
   "mimetype": "text/x-python",
   "name": "python",
   "nbconvert_exporter": "python",
   "pygments_lexer": "ipython3",
   "version": "3.7.0"
  }
 },
 "nbformat": 4,
 "nbformat_minor": 2
}
