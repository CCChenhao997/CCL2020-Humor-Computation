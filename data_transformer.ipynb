{
 "cells": [
  {
   "cell_type": "code",
   "execution_count": 2,
   "metadata": {},
   "outputs": [],
   "source": [
    "import pandas as pd"
   ]
  },
  {
   "cell_type": "code",
   "execution_count": 11,
   "metadata": {},
   "outputs": [
    {
     "name": "stdout",
     "output_type": "stream",
     "text": [
      "successful!\n"
     ]
    }
   ],
   "source": [
    "df = pd.read_csv('data/raw/cn_train.csv', encoding='utf-8', engine='python')\n",
    "\n",
    "ID_list, Dialogue_id_list, Utterance_id_list, Pre_Speaker_list, Post_Speaker_list = [], [], [], [], []\n",
    "Pre_Sentence_list, Post_Sentence_list, Label_list = [], [], []\n",
    "for index, line in df.iterrows():\n",
    "    ID = line[0]\n",
    "    Dialogue_id = line[1]\n",
    "    Utterance_id = line[2]\n",
    "    Speaker = line[3]\n",
    "    Sentence = line[4]\n",
    "    Label = line[5]\n",
    "    \n",
    "    if index == 0 or Utterance_id == 0:\n",
    "        pre_speaker = \"句首\"   # start, 句首\n",
    "        pre_sentence = \"句首\"  # start, 句首\n",
    "    \n",
    "    ID_list.append(ID)\n",
    "    Dialogue_id_list.append(Dialogue_id)\n",
    "    Utterance_id_list.append(Utterance_id)\n",
    "    Pre_Speaker_list.append(str(pre_speaker))\n",
    "    Post_Speaker_list.append(str(Speaker))\n",
    "    Pre_Sentence_list.append(str(pre_sentence))\n",
    "    Post_Sentence_list.append(str(Sentence))\n",
    "    Label_list.append(int(Label))\n",
    "    \n",
    "    pre_speaker = Speaker\n",
    "    pre_sentence = Sentence\n",
    "\n",
    "\n",
    "dataset = list(zip(ID_list, Dialogue_id_list, Utterance_id_list, Pre_Speaker_list, Post_Speaker_list,\n",
    "                  Pre_Sentence_list, Post_Sentence_list, Label_list))\n",
    "df_trans = pd.DataFrame(dataset, columns=['ID', 'Dialogue_id', 'Utterance_id', 'Speaker1', 'Speaker2',\n",
    "                                          'Sentence1', 'Sentence2', 'Label'])\n",
    "\n",
    "df_trans.to_csv('data/transform/cn_total.csv', index=False, encoding='utf-8')\n",
    "print(\"successful!\")"
   ]
  },
  {
   "cell_type": "code",
   "execution_count": 9,
   "metadata": {},
   "outputs": [
    {
     "name": "stdout",
     "output_type": "stream",
     "text": [
      "successful!\n"
     ]
    }
   ],
   "source": [
    "df = pd.read_csv('data/raw/en_train.csv', encoding='utf-8', engine='python')\n",
    "\n",
    "ID_list, Dialogue_id_list, Utterance_id_list, Pre_Speaker_list, Post_Speaker_list = [], [], [], [], []\n",
    "Pre_Sentence_list, Post_Sentence_list, Label_list = [], [], []\n",
    "for index, line in df.iterrows():\n",
    "    ID = line[0]\n",
    "    Dialogue_id = line[1]\n",
    "    Utterance_id = line[2]\n",
    "    Speaker = line[3]\n",
    "    Sentence = line[4]\n",
    "    Label = line[5]\n",
    "    \n",
    "    if index == 0 or Utterance_id == 0:\n",
    "        pre_speaker = \"start\"   # start, 句首\n",
    "        pre_sentence = \"start\"  # start, 句首\n",
    "    \n",
    "    ID_list.append(ID)\n",
    "    Dialogue_id_list.append(Dialogue_id)\n",
    "    Utterance_id_list.append(Utterance_id)\n",
    "    Pre_Speaker_list.append(str(pre_speaker))\n",
    "    Post_Speaker_list.append(str(Speaker))\n",
    "    Pre_Sentence_list.append(str(pre_sentence))\n",
    "    Post_Sentence_list.append(str(Sentence))\n",
    "    Label_list.append(int(Label))\n",
    "    \n",
    "    pre_speaker = Speaker\n",
    "    pre_sentence = Sentence\n",
    "\n",
    "\n",
    "dataset = list(zip(ID_list, Dialogue_id_list, Utterance_id_list, Pre_Speaker_list, Post_Speaker_list,\n",
    "                  Pre_Sentence_list, Post_Sentence_list, Label_list))\n",
    "df_trans = pd.DataFrame(dataset, columns=['ID', 'Dialogue_id', 'Utterance_id', 'Speaker1', 'Speaker2',\n",
    "                                          'Sentence1', 'Sentence2', 'Label'])\n",
    "\n",
    "df_trans.to_csv('data/transform/en_total.csv', index=False, encoding='utf-8')\n",
    "print(\"successful!\")"
   ]
  },
  {
   "cell_type": "code",
   "execution_count": 6,
   "metadata": {},
   "outputs": [],
   "source": [
    "import pandas as pd\n",
    "\n",
    "path = './data/transdata_StratifiedKFold_666/en/data_fold_0/test.csv'\n",
    "df = pd.read_csv(path, sep='\\t', header=None, encoding='utf-8', engine='python')"
   ]
  },
  {
   "cell_type": "code",
   "execution_count": 7,
   "metadata": {},
   "outputs": [
    {
     "data": {
      "text/html": [
       "<div>\n",
       "<style scoped>\n",
       "    .dataframe tbody tr th:only-of-type {\n",
       "        vertical-align: middle;\n",
       "    }\n",
       "\n",
       "    .dataframe tbody tr th {\n",
       "        vertical-align: top;\n",
       "    }\n",
       "\n",
       "    .dataframe thead th {\n",
       "        text-align: right;\n",
       "    }\n",
       "</style>\n",
       "<table border=\"1\" class=\"dataframe\">\n",
       "  <thead>\n",
       "    <tr style=\"text-align: right;\">\n",
       "      <th></th>\n",
       "      <th>0</th>\n",
       "      <th>1</th>\n",
       "      <th>2</th>\n",
       "      <th>3</th>\n",
       "      <th>4</th>\n",
       "      <th>5</th>\n",
       "    </tr>\n",
       "  </thead>\n",
       "  <tbody>\n",
       "    <tr>\n",
       "      <th>0</th>\n",
       "      <td>0</td>\n",
       "      <td>The Interviewer</td>\n",
       "      <td>Chandler</td>\n",
       "      <td>You mustve had your hands full.</td>\n",
       "      <td>That I did. That I did.</td>\n",
       "      <td>0</td>\n",
       "    </tr>\n",
       "    <tr>\n",
       "      <th>1</th>\n",
       "      <td>0</td>\n",
       "      <td>Chandler</td>\n",
       "      <td>The Interviewer</td>\n",
       "      <td>I see.</td>\n",
       "      <td>But therell be perhaps 30 people under you so...</td>\n",
       "      <td>1</td>\n",
       "    </tr>\n",
       "    <tr>\n",
       "      <th>2</th>\n",
       "      <td>0</td>\n",
       "      <td>Chandler</td>\n",
       "      <td>The Interviewer</td>\n",
       "      <td>Really?!</td>\n",
       "      <td>Absolutely.  You can relax</td>\n",
       "      <td>0</td>\n",
       "    </tr>\n",
       "    <tr>\n",
       "      <th>3</th>\n",
       "      <td>1</td>\n",
       "      <td>Chandler</td>\n",
       "      <td>Monica</td>\n",
       "      <td>Do I ever.</td>\n",
       "      <td>Chris says theyre closing down the bar.</td>\n",
       "      <td>0</td>\n",
       "    </tr>\n",
       "    <tr>\n",
       "      <th>4</th>\n",
       "      <td>2</td>\n",
       "      <td>Ross</td>\n",
       "      <td>Rachel</td>\n",
       "      <td>Hi!</td>\n",
       "      <td>What are you doing here?</td>\n",
       "      <td>0</td>\n",
       "    </tr>\n",
       "  </tbody>\n",
       "</table>\n",
       "</div>"
      ],
      "text/plain": [
       "   0                1                2                                 3  \\\n",
       "0  0  The Interviewer         Chandler  You mustve had your hands full.   \n",
       "1  0         Chandler  The Interviewer                            I see.   \n",
       "2  0         Chandler  The Interviewer                          Really?!   \n",
       "3  1         Chandler           Monica                        Do I ever.   \n",
       "4  2             Ross           Rachel                               Hi!   \n",
       "\n",
       "                                                   4  5  \n",
       "0                            That I did. That I did.  0  \n",
       "1  But therell be perhaps 30 people under you so...  1  \n",
       "2                         Absolutely.  You can relax  0  \n",
       "3           Chris says theyre closing down the bar.  0  \n",
       "4                           What are you doing here?  0  "
      ]
     },
     "execution_count": 7,
     "metadata": {},
     "output_type": "execute_result"
    }
   ],
   "source": [
    "df.head(5)"
   ]
  },
  {
   "cell_type": "code",
   "execution_count": 8,
   "metadata": {},
   "outputs": [
    {
     "data": {
      "text/html": [
       "<div>\n",
       "<style scoped>\n",
       "    .dataframe tbody tr th:only-of-type {\n",
       "        vertical-align: middle;\n",
       "    }\n",
       "\n",
       "    .dataframe tbody tr th {\n",
       "        vertical-align: top;\n",
       "    }\n",
       "\n",
       "    .dataframe thead th {\n",
       "        text-align: right;\n",
       "    }\n",
       "</style>\n",
       "<table border=\"1\" class=\"dataframe\">\n",
       "  <thead>\n",
       "    <tr style=\"text-align: right;\">\n",
       "      <th></th>\n",
       "      <th>0</th>\n",
       "      <th>1</th>\n",
       "      <th>2</th>\n",
       "      <th>3</th>\n",
       "      <th>4</th>\n",
       "      <th>5</th>\n",
       "    </tr>\n",
       "  </thead>\n",
       "  <tbody>\n",
       "  </tbody>\n",
       "</table>\n",
       "</div>"
      ],
      "text/plain": [
       "Empty DataFrame\n",
       "Columns: [0, 1, 2, 3, 4, 5]\n",
       "Index: []"
      ]
     },
     "execution_count": 8,
     "metadata": {},
     "output_type": "execute_result"
    }
   ],
   "source": [
    "df_na = df[df[4].isna()]\n",
    "df_na.head(3)"
   ]
  },
  {
   "cell_type": "code",
   "execution_count": null,
   "metadata": {},
   "outputs": [],
   "source": []
  }
 ],
 "metadata": {
  "kernelspec": {
   "display_name": "Python 3.7.0 64-bit ('base': conda)",
   "language": "python",
   "name": "python37064bitbaseconda998e842de2e240d7b0e87d2247c9c776"
  },
  "language_info": {
   "codemirror_mode": {
    "name": "ipython",
    "version": 3
   },
   "file_extension": ".py",
   "mimetype": "text/x-python",
   "name": "python",
   "nbconvert_exporter": "python",
   "pygments_lexer": "ipython3",
   "version": "3.7.0"
  }
 },
 "nbformat": 4,
 "nbformat_minor": 2
}
