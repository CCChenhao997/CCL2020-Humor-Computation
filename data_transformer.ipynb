{
 "cells": [
  {
   "cell_type": "code",
   "execution_count": 2,
   "metadata": {},
   "outputs": [],
   "source": [
    "import pandas as pd"
   ]
  },
  {
   "cell_type": "code",
   "execution_count": 8,
   "metadata": {},
   "outputs": [
    {
     "name": "stdout",
     "output_type": "stream",
     "text": [
      "successful!\n"
     ]
    }
   ],
   "source": [
    "df = pd.read_csv('data/raw/cn_train.csv', encoding='utf-8', engine='python')\n",
    "\n",
    "ID_list, Dialogue_id_list, Utterance_id_list, Pre_Speaker_list, Post_Speaker_list = [], [], [], [], []\n",
    "Pre_Sentence_list, Post_Sentence_list, Label_list = [], [], []\n",
    "for index, line in df.iterrows():\n",
    "    ID = line[0]\n",
    "    Dialogue_id = line[1]\n",
    "    Utterance_id = line[2]\n",
    "    Speaker = line[3]\n",
    "    Sentence = line[4]\n",
    "    Label = line[5]\n",
    "    \n",
    "    if index == 0 or Utterance_id == 0:\n",
    "        pre_speaker = \"句首\"   # start, 句首\n",
    "        pre_sentence = \"句首\"  # start, 句首\n",
    "    \n",
    "    ID_list.append(ID)\n",
    "    Dialogue_id_list.append(Dialogue_id)\n",
    "    Utterance_id_list.append(Utterance_id)\n",
    "    Pre_Speaker_list.append(pre_speaker)\n",
    "    Post_Speaker_list.append(Speaker)\n",
    "    Pre_Sentence_list.append(pre_sentence)\n",
    "    Post_Sentence_list.append(Sentence)\n",
    "    Label_list.append(int(Label))\n",
    "    \n",
    "    pre_speaker = Speaker\n",
    "    pre_sentence = Sentence\n",
    "\n",
    "\n",
    "dataset = list(zip(ID_list, Dialogue_id_list, Utterance_id_list, Pre_Speaker_list, Post_Speaker_list,\n",
    "                  Pre_Sentence_list, Post_Sentence_list, Label_list))\n",
    "df_trans = pd.DataFrame(dataset, columns=['ID', 'Dialogue_id', 'Utterance_id', 'Speaker1', 'Speaker2',\n",
    "                                          'Sentence1', 'Sentence2', 'Label'])\n",
    "\n",
    "df_trans.to_csv('data/transform/cn_total.csv', index=False, encoding='utf-8')\n",
    "print(\"successful!\")"
   ]
  },
  {
   "cell_type": "code",
   "execution_count": 9,
   "metadata": {},
   "outputs": [
    {
     "name": "stdout",
     "output_type": "stream",
     "text": [
      "successful!\n"
     ]
    }
   ],
   "source": [
    "df = pd.read_csv('data/raw/en_train.csv', encoding='utf-8', engine='python')\n",
    "\n",
    "ID_list, Dialogue_id_list, Utterance_id_list, Pre_Speaker_list, Post_Speaker_list = [], [], [], [], []\n",
    "Pre_Sentence_list, Post_Sentence_list, Label_list = [], [], []\n",
    "for index, line in df.iterrows():\n",
    "    ID = line[0]\n",
    "    Dialogue_id = line[1]\n",
    "    Utterance_id = line[2]\n",
    "    Speaker = line[3]\n",
    "    Sentence = line[4]\n",
    "    Label = line[5]\n",
    "    \n",
    "    if index == 0 or Utterance_id == 0:\n",
    "        pre_speaker = \"start\"   # start, 句首\n",
    "        pre_sentence = \"start\"  # start, 句首\n",
    "    \n",
    "    ID_list.append(ID)\n",
    "    Dialogue_id_list.append(Dialogue_id)\n",
    "    Utterance_id_list.append(Utterance_id)\n",
    "    Pre_Speaker_list.append(pre_speaker)\n",
    "    Post_Speaker_list.append(Speaker)\n",
    "    Pre_Sentence_list.append(pre_sentence)\n",
    "    Post_Sentence_list.append(Sentence)\n",
    "    Label_list.append(int(Label))\n",
    "    \n",
    "    pre_speaker = Speaker\n",
    "    pre_sentence = Sentence\n",
    "\n",
    "\n",
    "dataset = list(zip(ID_list, Dialogue_id_list, Utterance_id_list, Pre_Speaker_list, Post_Speaker_list,\n",
    "                  Pre_Sentence_list, Post_Sentence_list, Label_list))\n",
    "df_trans = pd.DataFrame(dataset, columns=['ID', 'Dialogue_id', 'Utterance_id', 'Speaker1', 'Speaker2',\n",
    "                                          'Sentence1', 'Sentence2', 'Label'])\n",
    "\n",
    "df_trans.to_csv('data/transform/en_total.csv', index=False, encoding='utf-8')\n",
    "print(\"successful!\")"
   ]
  },
  {
   "cell_type": "code",
   "execution_count": null,
   "metadata": {},
   "outputs": [],
   "source": []
  }
 ],
 "metadata": {
  "kernelspec": {
   "display_name": "Python 3.7.0 64-bit ('base': conda)",
   "language": "python",
   "name": "python37064bitbaseconda998e842de2e240d7b0e87d2247c9c776"
  },
  "language_info": {
   "codemirror_mode": {
    "name": "ipython",
    "version": 3
   },
   "file_extension": ".py",
   "mimetype": "text/x-python",
   "name": "python",
   "nbconvert_exporter": "python",
   "pygments_lexer": "ipython3",
   "version": "3.7.0"
  }
 },
 "nbformat": 4,
 "nbformat_minor": 2
}
